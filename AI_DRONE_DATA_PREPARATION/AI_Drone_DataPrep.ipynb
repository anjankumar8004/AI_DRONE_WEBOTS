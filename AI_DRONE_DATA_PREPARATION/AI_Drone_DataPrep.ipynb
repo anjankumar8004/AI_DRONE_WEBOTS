{
 "cells": [
  {
   "cell_type": "markdown",
   "metadata": {},
   "source": [
    "Data Preparation"
   ]
  },
  {
   "cell_type": "code",
   "execution_count": 2,
   "metadata": {},
   "outputs": [
    {
     "name": "stdout",
     "output_type": "stream",
     "text": [
      "{'Forward': 0, 'Left': 1, 'Right': 2}\n",
      "{0: 'Forward', 1: 'Left', 2: 'Right'}\n",
      "['Forward', 'Left', 'Right']\n",
      "[0, 1, 2]\n"
     ]
    }
   ],
   "source": [
    "import cv2\n",
    "import os\n",
    "import pickle\n",
    "\n",
    "#Reading the images collected at datacollection.\n",
    "#Reading the images collected at datacollection.\n",
    "data_path='E:/AI Projects/ReInforcement learning/RL_DRONE/controllers/AI_Drone_DataCol/TrainData'\n",
    "categories=os.listdir(data_path)\n",
    "labels=[i for i in range(len(categories))]\n",
    "\n",
    "label_dict = {} #empty dictionary\n",
    "cat_dict = {}\n",
    "\n",
    "for i in range(len(categories)):\n",
    "    label_dict[categories[i]]=labels[i]\n",
    "\n",
    "for i in range(len(categories)):\n",
    "    cat_dict[labels[i]]=categories[i]\n",
    "\n",
    "\n",
    "#Just saving the outputs of model with its direction\n",
    "print(label_dict)\n",
    "print(cat_dict)\n",
    "print(categories)\n",
    "print(labels)"
   ]
  },
  {
   "cell_type": "code",
   "execution_count": 3,
   "metadata": {},
   "outputs": [],
   "source": [
    "dict_file = open(\"./ai_drone.pkl\", \"wb\")\n",
    "pickle.dump(cat_dict, dict_file)\n",
    "dict_file.close()"
   ]
  },
  {
   "cell_type": "code",
   "execution_count": 4,
   "metadata": {},
   "outputs": [
    {
     "data": {
      "text/plain": [
       "<_io.BufferedWriter name='./ai_drone.pkl'>"
      ]
     },
     "execution_count": 4,
     "metadata": {},
     "output_type": "execute_result"
    }
   ],
   "source": [
    "dict_file"
   ]
  },
  {
   "cell_type": "code",
   "execution_count": 5,
   "metadata": {},
   "outputs": [],
   "source": [
    "img_size=50\n",
    "dataset=[]\n",
    "#Rebuilding the data set\n",
    "\n",
    "#Converting to greyscale and resizing\n",
    "for category in categories:\n",
    "    folder_path=os.path.join(data_path,category)\n",
    "    img_names=os.listdir(folder_path)\n",
    "        \n",
    "    for img_name in img_names:\n",
    "        img_path=os.path.join(folder_path,img_name)\n",
    "        img=cv2.imread(img_path)\n",
    "\n",
    "        try:\n",
    "            gray=cv2.cvtColor(img,cv2.COLOR_BGR2GRAY)\n",
    "            #Coverting the image into gray scale\n",
    "            resized=cv2.resize(gray,(img_size,img_size))\n",
    "            #resizing the gray scale into 50x50, since we need a fixed common size for all the images in the dataset\n",
    "            dataset.append([resized,label_dict[category]])\n",
    "            #appending the image and the label(categorized) into the list (dataset)\n",
    "        except Exception as e:\n",
    "            print(e)\n"
   ]
  },
  {
   "cell_type": "code",
   "execution_count": 6,
   "metadata": {},
   "outputs": [
    {
     "data": {
      "text/plain": [
       "[array([[239, 239, 239, ..., 206, 204, 203],\n",
       "        [237, 237, 237, ..., 201, 206, 203],\n",
       "        [236, 237, 238, ..., 204, 205, 204],\n",
       "        ...,\n",
       "        [193, 189, 198, ..., 206, 209, 205],\n",
       "        [208, 215, 209, ..., 203, 203, 205],\n",
       "        [188, 187, 184, ..., 205, 207, 203]], dtype=uint8),\n",
       " 0]"
      ]
     },
     "execution_count": 6,
     "metadata": {},
     "output_type": "execute_result"
    }
   ],
   "source": [
    "dataset[90]"
   ]
  },
  {
   "cell_type": "code",
   "execution_count": 7,
   "metadata": {},
   "outputs": [
    {
     "data": {
      "text/plain": [
       "0"
      ]
     },
     "execution_count": 7,
     "metadata": {},
     "output_type": "execute_result"
    }
   ],
   "source": [
    "dataset[0][1]"
   ]
  },
  {
   "cell_type": "code",
   "execution_count": 8,
   "metadata": {},
   "outputs": [
    {
     "data": {
      "text/plain": [
       "235"
      ]
     },
     "execution_count": 8,
     "metadata": {},
     "output_type": "execute_result"
    }
   ],
   "source": [
    "len(dataset)"
   ]
  },
  {
   "cell_type": "code",
   "execution_count": null,
   "metadata": {},
   "outputs": [],
   "source": [
    "from random import shuffle\n",
    "\n",
    "shuffle(dataset)"
   ]
  },
  {
   "cell_type": "code",
   "execution_count": 142,
   "metadata": {},
   "outputs": [],
   "source": [
    "data=[]\n",
    "target=[]\n",
    "\n",
    "for feature,label in dataset:\n",
    "    data.append(feature)\n",
    "    target.append(label)"
   ]
  },
  {
   "cell_type": "code",
   "execution_count": 143,
   "metadata": {},
   "outputs": [],
   "source": [
    "#Scaling images by 255, And converting them to numpy array.\n",
    "\n",
    "import numpy as np\n",
    "\n",
    "data=np.array(data)/255.0  #Scaling\n",
    "data=np.reshape(data,(data.shape[0],img_size,img_size,1))\n",
    "target=np.array(target)\n",
    "\n",
    "from tensorflow.keras.utils import to_categorical\n",
    "\n",
    "#one hot encoding\n",
    "new_target = to_categorical(target)"
   ]
  },
  {
   "cell_type": "code",
   "execution_count": 144,
   "metadata": {},
   "outputs": [],
   "source": [
    "#Saving X and Y\n",
    "np.save('./DroneData',data)\n",
    "np.save('./DroneTarget',new_target)"
   ]
  },
  {
   "cell_type": "code",
   "execution_count": null,
   "metadata": {},
   "outputs": [],
   "source": []
  },
  {
   "cell_type": "code",
   "execution_count": null,
   "metadata": {},
   "outputs": [],
   "source": []
  }
 ],
 "metadata": {
  "kernelspec": {
   "display_name": "Python 3.9.1 64-bit",
   "language": "python",
   "name": "python3"
  },
  "language_info": {
   "codemirror_mode": {
    "name": "ipython",
    "version": 3
   },
   "file_extension": ".py",
   "mimetype": "text/x-python",
   "name": "python",
   "nbconvert_exporter": "python",
   "pygments_lexer": "ipython3",
   "version": "3.9.1"
  },
  "vscode": {
   "interpreter": {
    "hash": "fb992f18f5bd9fdffa80f0218facc7c988dd1a90a66352c4fc50081e39a0958b"
   }
  }
 },
 "nbformat": 4,
 "nbformat_minor": 4
}
